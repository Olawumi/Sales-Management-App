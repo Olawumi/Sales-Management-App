{
 "cells": [
  {
   "cell_type": "code",
   "execution_count": 1,
   "metadata": {},
   "outputs": [],
   "source": [
    "import json\n",
    "\n",
    "with open('inventory.json', 'r', encoding=\"utf8\") as file:\n",
    "    inventory_file = json.load(file)"
   ]
  },
  {
   "cell_type": "code",
   "execution_count": null,
   "metadata": {},
   "outputs": [],
   "source": []
  },
  {
   "cell_type": "code",
   "execution_count": null,
   "metadata": {},
   "outputs": [],
   "source": [
    " def tax_deduction(value):\n",
    "        tax = value * 0.05\n",
    "        value += tax\n",
    "        return value"
   ]
  },
  {
   "cell_type": "code",
   "execution_count": null,
   "metadata": {},
   "outputs": [],
   "source": [
    " def discount_purchase(value):\n",
    "        discount = value * 0.2\n",
    "        value =+ discount\n",
    "        return value"
   ]
  },
  {
   "cell_type": "code",
   "execution_count": null,
   "metadata": {},
   "outputs": [],
   "source": []
  },
  {
   "cell_type": "code",
   "execution_count": null,
   "metadata": {},
   "outputs": [],
   "source": [
    "def process_purchase():\n",
    "        print('Welcome to Olawumi Grocery Stores')\n",
    "        counter = 0\n",
    "        total_amount = 0\n",
    "        total_after_tax = 0\n",
    "        total_after_discount = 0\n",
    "        cart = []\n",
    "        product_count = int(input('How many products do you want to buy today?: '))\n",
    "\n",
    "        # aggregate items in cart\n",
    "        while counter < product_count:\n",
    "            product = input('Enter the product you want to buy: ')\n",
    "            if product in inventory:\n",
    "                qty = int(input('How many do you want?: '))\n",
    "                cart.append([product, qty])\n",
    "                counter+= 1\n",
    "            else:\n",
    "                print('Sorry {} is not currently available'.format(product))\n",
    "                continue\n",
    "\n",
    "        print('\\n')\n",
    "\n",
    "        for items in cart:\n",
    "            amount_purchased = inventory[items[0]]['price'] * items[1]\n",
    "            total_amount += amount_purchased\n",
    "            if total_amount < 500:\n",
    "                total_amount = total_amount\n",
    "            elif total_amount >= 500 & total_amount < 1000:\n",
    "                total_after_tax += tax_deduction(total_amount)\n",
    "            elif total_amount >= 1000:\n",
    "                total_after_discount += discount_purchase(total_amount)\n",
    "            else:\n",
    "                pass\n",
    "\n",
    "        # Print purchased reciept\n",
    "        print('Olawumi Grocery Stores \\n\\t\\t Purchase Reciept \\n')\n",
    "        print('Product Bought \\t\\t Quantity')\n",
    "        for cart_item in cart:\n",
    "            print(cart_item[0], '\\t\\t\\t\\t', cart_item[1])\n",
    "        for cart_item in cart:\n",
    "            if total_amount < 500:\n",
    "                print('Total Amount: \\t\\t{}'.format(total_amount))\n",
    "            elif total_amount >= 500 & total_amount < 1000:\n",
    "                print('Tax deduction: \\t\\t{}'.format('5%'))\n",
    "                print('Total Amount After Tax: \\t\\t{}'.format(total_after_tax))\n",
    "            elif total_amount >= 1000:\n",
    "                print('Tax deduction: \\t\\t{}'.format('5%'))\n",
    "                #print('Total Amount After Tax: \\t\\t{}'.format(total_after_tax))\n",
    "                print('Total Amount After Discount: \\t\\t{}'.format(total_after_discount))\n",
    "            else:\n",
    "                pass"
   ]
  },
  {
   "cell_type": "code",
   "execution_count": null,
   "metadata": {},
   "outputs": [],
   "source": []
  },
  {
   "cell_type": "code",
   "execution_count": 4,
   "metadata": {},
   "outputs": [
    {
     "name": "stdout",
     "output_type": "stream",
     "text": [
      "How many products do you want to add? 2\n",
      "Enter a product: Fried Rice & Chicken\n",
      "Enter the quantity: 5\n",
      "Enter the price: 1500\n",
      "Enter a product: Chicken & Chips\n",
      "Enter the quantity: 10\n",
      "Enter the price: 2700\n",
      "Updated inventory:\n",
      "Rice \t\t 100\n",
      "Bread \t\t 5\n",
      "Fish \t\t 10\n",
      "Milk \t\t 3\n",
      "Orange \t\t 15\n",
      "Holandia Yoghourt \t\t 30\n",
      "Barbeque fish \t\t 15\n",
      "Akara \t\t 6\n",
      "Yam & Egg \t\t 5\n",
      "Fried Rice & Chicken \t\t 5\n",
      "Chicken & Chips \t\t 10\n"
     ]
    }
   ],
   "source": [
    "def update_inventory():\n",
    "        new_products = []\n",
    "        counter = 0\n",
    "        num_products = int(input('How many products do you want to add? '))\n",
    "        while counter < num_products:\n",
    "            item = input('Enter a product: ')\n",
    "            qty = int(input('Enter the quantity: '))\n",
    "            price = int(input('Enter the price: '))\n",
    "            product_info = {item:{'price':price, 'quantity':qty}}\n",
    "            new_products.append(product_info)\n",
    "            counter += 1\n",
    "        for i in new_products:\n",
    "            inventory.update(i)\n",
    "            with open('inventory.json', 'w', encoding=\"utf8\") as outside_inv:\n",
    "                json.dump(inventory, outside_inv)\n",
    "\n",
    "        print('Updated inventory:')\n",
    "        for prod in inventory:\n",
    "            print(prod, '\\t\\t', inventory[prod]['quantity'])\n",
    "\n",
    "update_inventory()\n",
    "\n",
    "    #process_purchase()"
   ]
  },
  {
   "cell_type": "code",
   "execution_count": 5,
   "metadata": {},
   "outputs": [
    {
     "data": {
      "text/plain": [
       "{'Rice': {'price': 50, 'quantity': 100},\n",
       " 'Bread': {'price': 150, 'quantity': 5},\n",
       " 'Fish': {'price': 100, 'quantity': 10},\n",
       " 'Milk': {'price': 200, 'quantity': 3},\n",
       " 'Orange': {'price': 40, 'quantity': 15},\n",
       " 'Holandia Yoghourt': {'price': 500, 'quantity': 30},\n",
       " 'Barbeque fish': {'price': 1200, 'quantity': 15},\n",
       " 'Akara': {'price': 45, 'quantity': 6},\n",
       " 'Yam & Egg': {'price': 600, 'quantity': 5},\n",
       " 'Fried Rice & Chicken': {'price': 1500, 'quantity': 5},\n",
       " 'Chicken & Chips': {'price': 2700, 'quantity': 10}}"
      ]
     },
     "execution_count": 5,
     "metadata": {},
     "output_type": "execute_result"
    }
   ],
   "source": [
    "inventory"
   ]
  },
  {
   "cell_type": "code",
   "execution_count": null,
   "metadata": {},
   "outputs": [],
   "source": []
  }
 ],
 "metadata": {
  "kernelspec": {
   "display_name": "Python 3",
   "language": "python",
   "name": "python3"
  },
  "language_info": {
   "codemirror_mode": {
    "name": "ipython",
    "version": 3
   },
   "file_extension": ".py",
   "mimetype": "text/x-python",
   "name": "python",
   "nbconvert_exporter": "python",
   "pygments_lexer": "ipython3",
   "version": "3.7.3"
  }
 },
 "nbformat": 4,
 "nbformat_minor": 4
}
